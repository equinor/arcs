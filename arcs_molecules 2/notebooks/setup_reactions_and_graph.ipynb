{
 "cells": [
  {
   "cell_type": "markdown",
   "metadata": {},
   "source": [
    "### Reaction Mappings"
   ]
  },
  {
   "cell_type": "code",
   "execution_count": 1,
   "metadata": {},
   "outputs": [],
   "source": [
    "from arcs.reactions import ReactionsDictionaryGenerator, MappingtoReaction\n",
    "import os, glob "
   ]
  },
  {
   "cell_type": "code",
   "execution_count": 2,
   "metadata": {},
   "outputs": [
    {
     "data": {
      "text/plain": [
       "['H2O',\n",
       " 'CH3CH2OH',\n",
       " 'H2S',\n",
       " 'CH2O2',\n",
       " 'HNO2',\n",
       " 'H2',\n",
       " 'H2SO4',\n",
       " 'H2SO3',\n",
       " 'HNO3',\n",
       " 'NO',\n",
       " 'H2NCOONH4',\n",
       " 'O2',\n",
       " 'NH4NH4CO3',\n",
       " 'CH3COOH',\n",
       " 'SO2',\n",
       " 'CO',\n",
       " 'CH3OH',\n",
       " 'CH3CHO',\n",
       " 'S8',\n",
       " 'H4N2CO',\n",
       " 'CH4',\n",
       " 'H2CO',\n",
       " 'NO2',\n",
       " 'NH4HCO3',\n",
       " 'NOHSO4',\n",
       " 'N2',\n",
       " 'NH3',\n",
       " 'CO2']"
      ]
     },
     "execution_count": 2,
     "metadata": {},
     "output_type": "execute_result"
    }
   ],
   "source": [
    "molecules = [x.replace('../dft_data/','') for x in glob.glob('../dft_data/*')]\n",
    "molecules"
   ]
  },
  {
   "cell_type": "code",
   "execution_count": 3,
   "metadata": {},
   "outputs": [],
   "source": [
    "'''\n",
    "here a reactions dictionary is generated where each component is represented by a number (most memory efficient) \n",
    "later we map the molecules (components) to a number \n",
    "'''\n",
    "rdg = ReactionsDictionaryGenerator(no_compounds=len(molecules),path='.')"
   ]
  },
  {
   "cell_type": "code",
   "execution_count": 4,
   "metadata": {},
   "outputs": [
    {
     "name": "stdout",
     "output_type": "stream",
     "text": [
      "running_runner for 2 component reactions... 1 possibilities : [(1, 1)]\n",
      "(1, 1) : 841->4:602->2:406->406\n"
     ]
    }
   ],
   "source": [
    "'''\n",
    "this saves to a file as it was the most memory efficient\n",
    "you need to run it for each length of reaction i.e. 2 components, 3 components, 4 components, 5 components \n",
    "\n",
    "5/6 is usually the max as it can take a long time to run these mappings \n",
    "'''\n",
    "rdg.runner_mp_while(reaction_length=2,nprocs=4) "
   ]
  },
  {
   "cell_type": "code",
   "execution_count": 5,
   "metadata": {},
   "outputs": [
    {
     "name": "stdout",
     "output_type": "stream",
     "text": [
      "running_runner for 3 component reactions... 1 possibilities : [(1, 2)]\n",
      "(1, 2) : 11774->4:10962->2:10962->10962\n"
     ]
    }
   ],
   "source": [
    "rdg.runner_mp_while(reaction_length=3,split_files=False,nprocs=4)"
   ]
  },
  {
   "cell_type": "code",
   "execution_count": 8,
   "metadata": {},
   "outputs": [],
   "source": [
    "! gzip -f data_3.dat data_2.dat"
   ]
  },
  {
   "cell_type": "code",
   "execution_count": 9,
   "metadata": {},
   "outputs": [
    {
     "name": "stdout",
     "output_type": "stream",
     "text": [
      "orig = 406... approved =  378... prescreening =  25\n"
     ]
    },
    {
     "name": "stderr",
     "output_type": "stream",
     "text": [
      "100%|██████████| 25/25 [00:00<00:00, 35.81it/s]"
     ]
    },
    {
     "name": "stdout",
     "output_type": "stream",
     "text": [
      " final =  1... time =  0:00:00.715198\n"
     ]
    },
    {
     "name": "stderr",
     "output_type": "stream",
     "text": [
      "\n"
     ]
    }
   ],
   "source": [
    "from arcs.reactions import MappingtoReaction\n",
    "\n",
    "mpreac = MappingtoReaction(filename='data_2.dat.gz',compounds=molecules)\n",
    "reactions_2 = mpreac.run_all()"
   ]
  },
  {
   "cell_type": "code",
   "execution_count": 10,
   "metadata": {},
   "outputs": [
    {
     "name": "stdout",
     "output_type": "stream",
     "text": [
      "orig = 10962... approved =  9828... prescreening =  789\n"
     ]
    },
    {
     "name": "stderr",
     "output_type": "stream",
     "text": [
      "100%|██████████| 789/789 [00:19<00:00, 39.84it/s]"
     ]
    },
    {
     "name": "stdout",
     "output_type": "stream",
     "text": [
      " final =  53... time =  0:00:19.907678\n"
     ]
    },
    {
     "name": "stderr",
     "output_type": "stream",
     "text": [
      "\n"
     ]
    }
   ],
   "source": [
    "mpreac = MappingtoReaction(filename='data_3.dat.gz',compounds=molecules)\n",
    "reactions_3 = mpreac.run_all()"
   ]
  },
  {
   "cell_type": "code",
   "execution_count": 11,
   "metadata": {},
   "outputs": [
    {
     "data": {
      "text/html": [
       "CH3COOH &harr; 2 H2CO"
      ],
      "text/plain": [
       "<chempy.chemistry.Equilibrium at 0x111f16890>"
      ]
     },
     "execution_count": 11,
     "metadata": {},
     "output_type": "execute_result"
    }
   ],
   "source": [
    "reactions_2[0]"
   ]
  },
  {
   "cell_type": "code",
   "execution_count": 12,
   "metadata": {},
   "outputs": [],
   "source": [
    "reactions = reactions_2 + reactions_3 "
   ]
  },
  {
   "cell_type": "code",
   "execution_count": 16,
   "metadata": {},
   "outputs": [],
   "source": [
    "from arcs.setup_functions import ApplyDataToReaction, GetEnergyandVibrationsVASP"
   ]
  },
  {
   "cell_type": "code",
   "execution_count": 17,
   "metadata": {},
   "outputs": [],
   "source": [
    "base_dir = '../dft_data/' \n",
    "dft_data = {}\n",
    "for molecule in molecules:\n",
    "    dft_data[molecule] = GetEnergyandVibrationsVASP(relax_directory=base_dir+molecule+'/relax/',vibrations_directory=base_dir+molecule+'/vibrations/').as_dict()\n"
   ]
  },
  {
   "cell_type": "code",
   "execution_count": 18,
   "metadata": {},
   "outputs": [
    {
     "data": {
      "text/plain": [
       "{'atoms': {'numbers': array([1, 1, 8]),\n",
       "  'positions': array([[10.00000008, 10.76508964,  9.70519833],\n",
       "         [10.00000007,  9.23491044,  9.70519803],\n",
       "         [ 9.99999985,  9.99999992, 10.29144914]]),\n",
       "  'initial_magmoms': array([1., 1., 0.]),\n",
       "  'cell': array([[20.,  0.,  0.],\n",
       "         [ 0., 20.,  0.],\n",
       "         [ 0.,  0., 20.]]),\n",
       "  'pbc': array([ True,  True,  True])},\n",
       " 'pointgroup': 'C2v',\n",
       " 'spin': 0,\n",
       " 'rotation_num': 2,\n",
       " 'islinear': 'nonlinear',\n",
       " 'energy': -15.48681265,\n",
       " 'vibrations': [0.49353862800000003,\n",
       "  0.478317617,\n",
       "  0.198915565,\n",
       "  0.015442636999999999,\n",
       "  0.014514839,\n",
       "  0.000442112]}"
      ]
     },
     "execution_count": 18,
     "metadata": {},
     "output_type": "execute_result"
    }
   ],
   "source": [
    "dft_data['H2O']"
   ]
  },
  {
   "cell_type": "code",
   "execution_count": 19,
   "metadata": {},
   "outputs": [],
   "source": [
    "dft_data['reactions'] = reactions # might be part of the experimental 'app input' branch in arcs, but the rest should be fairly self explanatory "
   ]
  },
  {
   "cell_type": "code",
   "execution_count": 24,
   "metadata": {},
   "outputs": [],
   "source": [
    "applied_reaction_data = ApplyDataToReaction(trange=[298],prange=[1],data=dft_data,nprocs=4).apply()"
   ]
  },
  {
   "cell_type": "code",
   "execution_count": 25,
   "metadata": {},
   "outputs": [
    {
     "data": {
      "text/plain": [
       "{298: {1: {0: {'e': <chempy.chemistry.Equilibrium at 0x13685d150>,\n",
       "    'g': 3.7079145847225092,\n",
       "    'k': 1.9575882598245297e-63},\n",
       "   1: {'e': <chempy.chemistry.Equilibrium at 0x13685dc50>,\n",
       "    'g': 4.450540042970793,\n",
       "    'k': 5.400502307194296e-76},\n",
       "   2: {'e': <chempy.chemistry.Equilibrium at 0x13685ddd0>,\n",
       "    'g': 2.568776014326126,\n",
       "    'k': 3.6044682800338033e-44},\n",
       "   3: {'e': <chempy.chemistry.Equilibrium at 0x13685df10>,\n",
       "    'g': -1.3338132722777232,\n",
       "    'k': 3.609606350759914e+22},\n",
       "   4: {'e': <chempy.chemistry.Equilibrium at 0x13685e010>,\n",
       "    'g': 1.1870506562223966,\n",
       "    'k': 8.406023444431834e-21},\n",
       "   5: {'e': <chempy.chemistry.Equilibrium at 0x13685e0d0>,\n",
       "    'g': -1.482215381757726,\n",
       "    'k': 1.1674476246762668e+25},\n",
       "   6: {'e': <chempy.chemistry.Equilibrium at 0x13685e1d0>,\n",
       "    'g': 70.2913123633739,\n",
       "    'k': 0.0},\n",
       "   7: {'e': <chempy.chemistry.Equilibrium at 0x13685e310>,\n",
       "    'g': 1.2795592099833257,\n",
       "    'k': 2.291317422253139e-22},\n",
       "   8: {'e': <chempy.chemistry.Equilibrium at 0x13685e450>,\n",
       "    'g': 0.6160241275578926,\n",
       "    'k': 3.817644085928079e-11},\n",
       "   9: {'e': <chempy.chemistry.Equilibrium at 0x13685e510>,\n",
       "    'g': 3.481797740266927,\n",
       "    'k': 1.3056028318572508e-59},\n",
       "   10: {'e': <chempy.chemistry.Equilibrium at 0x13685e6d0>,\n",
       "    'g': 15.387906047654937,\n",
       "    'k': 5.749367601076074e-261},\n",
       "   11: {'e': <chempy.chemistry.Equilibrium at 0x13685e890>,\n",
       "    'g': 7.189712324989429,\n",
       "    'k': 2.55583277563814e-122},\n",
       "   12: {'e': <chempy.chemistry.Equilibrium at 0x13685ea50>,\n",
       "    'g': 3.7083913874396615,\n",
       "    'k': 1.9215764197140182e-63},\n",
       "   13: {'e': <chempy.chemistry.Equilibrium at 0x13685ec90>,\n",
       "    'g': 6.435130455273203,\n",
       "    'k': 1.4757967493536192e-109},\n",
       "   42: {'e': <chempy.chemistry.Equilibrium at 0x13685db50>,\n",
       "    'g': -3.0906154636566754,\n",
       "    'k': 1.8557154600838875e+52},\n",
       "   43: {'e': <chempy.chemistry.Equilibrium at 0x13685f090>,\n",
       "    'g': -0.09002693102599224,\n",
       "    'k': 33.30704606620767},\n",
       "   44: {'e': <chempy.chemistry.Equilibrium at 0x13685f1d0>,\n",
       "    'g': 1.0084813976760785,\n",
       "    'k': 8.801469877469922e-18},\n",
       "   45: {'e': <chempy.chemistry.Equilibrium at 0x13685f2d0>,\n",
       "    'g': -0.8443992250557955,\n",
       "    'k': 190759373049706.6},\n",
       "   46: {'e': <chempy.chemistry.Equilibrium at 0x13685f490>,\n",
       "    'g': -3.856316694202512,\n",
       "    'k': 1.6521756304343318e+65},\n",
       "   47: {'e': <chempy.chemistry.Equilibrium at 0x13685f6d0>,\n",
       "    'g': 1.6321819085583158,\n",
       "    'k': 2.491882689230722e-28},\n",
       "   48: {'e': <chempy.chemistry.Equilibrium at 0x13685f910>,\n",
       "    'g': -1.311407143474888,\n",
       "    'k': 1.5084371767871517e+22},\n",
       "   49: {'e': <chempy.chemistry.Equilibrium at 0x13685fb10>,\n",
       "    'g': 3.6133371725682366,\n",
       "    'k': 7.784222475227997e-62},\n",
       "   50: {'e': <chempy.chemistry.Equilibrium at 0x13685fd50>,\n",
       "    'g': 3.6010042882684843,\n",
       "    'k': 1.2583141182773075e-61},\n",
       "   51: {'e': <chempy.chemistry.Equilibrium at 0x13685ff50>,\n",
       "    'g': 0.8108688372640103,\n",
       "    'k': 1.9345514206249003e-14},\n",
       "   52: {'e': <chempy.chemistry.Equilibrium at 0x1368701d0>,\n",
       "    'g': 0.8662423103200823,\n",
       "    'k': 2.2392557362848753e-15},\n",
       "   53: {'e': <chempy.chemistry.Equilibrium at 0x1368703d0>,\n",
       "    'g': 5.7776102078216525,\n",
       "    'k': 1.9454218804282717e-98},\n",
       "   28: {'e': <chempy.chemistry.Equilibrium at 0x13685ef50>,\n",
       "    'g': 4.94251282685417,\n",
       "    'k': 2.5833712800416293e-84},\n",
       "   29: {'e': <chempy.chemistry.Equilibrium at 0x1368707d0>,\n",
       "    'g': 3.5278607226705248,\n",
       "    'k': 2.1716687761712856e-60},\n",
       "   30: {'e': <chempy.chemistry.Equilibrium at 0x136870910>,\n",
       "    'g': 8.424310567121097,\n",
       "    'k': 3.3728568589610422e-143},\n",
       "   31: {'e': <chempy.chemistry.Equilibrium at 0x136870a50>,\n",
       "    'g': 2.8635153596667138,\n",
       "    'k': 3.734283091335934e-49},\n",
       "   32: {'e': <chempy.chemistry.Equilibrium at 0x136870c50>,\n",
       "    'g': -0.14840210948000276,\n",
       "    'k': 323.42796173064534},\n",
       "   33: {'e': <chempy.chemistry.Equilibrium at 0x136870e90>,\n",
       "    'g': 92.87651115552504,\n",
       "    'k': 0.0},\n",
       "   34: {'e': <chempy.chemistry.Equilibrium at 0x1368710d0>,\n",
       "    'g': -2.7810607489138874,\n",
       "    'k': 1.0797414657924826e+47},\n",
       "   35: {'e': <chempy.chemistry.Equilibrium at 0x136871310>,\n",
       "    'g': -2.199169996662903,\n",
       "    'k': 1.5573244813708483e+37},\n",
       "   36: {'e': <chempy.chemistry.Equilibrium at 0x1368714d0>,\n",
       "    'g': 0.664345363003811,\n",
       "    'k': 5.815490478506703e-12},\n",
       "   37: {'e': <chempy.chemistry.Equilibrium at 0x136871690>,\n",
       "    'g': 0.7543722940298032,\n",
       "    'k': 1.746024089601543e-13},\n",
       "   38: {'e': <chempy.chemistry.Equilibrium at 0x136871890>,\n",
       "    'g': -0.24622473047178772,\n",
       "    'k': 14593.331481049598},\n",
       "   39: {'e': <chempy.chemistry.Equilibrium at 0x136871a50>,\n",
       "    'g': -1.471752289129725,\n",
       "    'k': 7.767575918152552e+24},\n",
       "   40: {'e': <chempy.chemistry.Equilibrium at 0x136871c10>,\n",
       "    'g': 0.7360745140309106,\n",
       "    'k': 3.5604297466864794e-13},\n",
       "   41: {'e': <chempy.chemistry.Equilibrium at 0x136871e50>,\n",
       "    'g': -5.0433673504249015,\n",
       "    'k': 1.9654663603493636e+85},\n",
       "   14: {'e': <chempy.chemistry.Equilibrium at 0x13685f010>,\n",
       "    'g': 3.5393444544350388,\n",
       "    'k': 1.388611096374423e-60},\n",
       "   15: {'e': <chempy.chemistry.Equilibrium at 0x136872210>,\n",
       "    'g': -0.3829616424486062,\n",
       "    'k': 2996747.1810930404},\n",
       "   16: {'e': <chempy.chemistry.Equilibrium at 0x136872350>,\n",
       "    'g': -0.6435584535968815,\n",
       "    'k': 76535916415.47028},\n",
       "   17: {'e': <chempy.chemistry.Equilibrium at 0x136872450>,\n",
       "    'g': 9.330916456111368,\n",
       "    'k': 1.56845646062405e-158},\n",
       "   18: {'e': <chempy.chemistry.Equilibrium at 0x1368725d0>,\n",
       "    'g': -0.22155896187229018,\n",
       "    'k': 5584.789236025594},\n",
       "   19: {'e': <chempy.chemistry.Equilibrium at 0x136872810>,\n",
       "    'g': -2.9435890520332073,\n",
       "    'k': 6.053403650606965e+49},\n",
       "   20: {'e': <chempy.chemistry.Equilibrium at 0x136872a50>,\n",
       "    'g': -4.5757709605915196,\n",
       "    'k': 2.4292490480259616e+77},\n",
       "   21: {'e': <chempy.chemistry.Equilibrium at 0x136872c50>,\n",
       "    'g': 0.12349482603463002,\n",
       "    'k': 0.008155575198191834},\n",
       "   22: {'e': <chempy.chemistry.Equilibrium at 0x136872e90>,\n",
       "    'g': 0.08567082824200156,\n",
       "    'k': 0.03557413300834116},\n",
       "   23: {'e': <chempy.chemistry.Equilibrium at 0x136873090>,\n",
       "    'g': -0.005862689676163768,\n",
       "    'k': 1.2564634243385782},\n",
       "   24: {'e': <chempy.chemistry.Equilibrium at 0x1368732d0>,\n",
       "    'g': 0.03782399779262846,\n",
       "    'k': 0.22925576840564393},\n",
       "   25: {'e': <chempy.chemistry.Equilibrium at 0x136873490>,\n",
       "    'g': 0.1613188238272727,\n",
       "    'k': 0.0018697126588504472},\n",
       "   26: {'e': <chempy.chemistry.Equilibrium at 0x136873650>,\n",
       "    'g': 0.10298293111831924,\n",
       "    'k': 0.018128084367584302},\n",
       "   27: {'e': <chempy.chemistry.Equilibrium at 0x136873850>,\n",
       "    'g': 1.0370090533177176,\n",
       "    'k': 2.8979793435707525e-18}}}}"
      ]
     },
     "execution_count": 25,
     "metadata": {},
     "output_type": "execute_result"
    }
   ],
   "source": [
    "applied_reaction_data"
   ]
  }
 ],
 "metadata": {
  "kernelspec": {
   "display_name": "py311",
   "language": "python",
   "name": "python3"
  },
  "language_info": {
   "codemirror_mode": {
    "name": "ipython",
    "version": 3
   },
   "file_extension": ".py",
   "mimetype": "text/x-python",
   "name": "python",
   "nbconvert_exporter": "python",
   "pygments_lexer": "ipython3",
   "version": "3.11.5"
  }
 },
 "nbformat": 4,
 "nbformat_minor": 2
}
